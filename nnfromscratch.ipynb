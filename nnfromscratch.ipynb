{
 "cells": [
  {
   "cell_type": "code",
   "execution_count": 1,
   "id": "77c070cd",
   "metadata": {
    "_cell_guid": "b1076dfc-b9ad-4769-8c92-a6c4dae69d19",
    "_uuid": "8f2839f25d086af736a60e9eeb907d3b93b6e0e5",
    "execution": {
     "iopub.execute_input": "2025-05-11T07:13:44.304253Z",
     "iopub.status.busy": "2025-05-11T07:13:44.303828Z",
     "iopub.status.idle": "2025-05-11T07:13:46.844439Z",
     "shell.execute_reply": "2025-05-11T07:13:46.842670Z"
    },
    "papermill": {
     "duration": 2.548757,
     "end_time": "2025-05-11T07:13:46.846433",
     "exception": false,
     "start_time": "2025-05-11T07:13:44.297676",
     "status": "completed"
    },
    "tags": []
   },
   "outputs": [
    {
     "name": "stdout",
     "output_type": "stream",
     "text": [
      "/kaggle/input/digit-recognizer/sample_submission.csv\n",
      "/kaggle/input/digit-recognizer/train.csv\n",
      "/kaggle/input/digit-recognizer/test.csv\n"
     ]
    }
   ],
   "source": [
    "# This Python 3 environment comes with many helpful analytics libraries installed\n",
    "# It is defined by the kaggle/python Docker image: https://github.com/kaggle/docker-python\n",
    "# For example, here's several helpful packages to load\n",
    "\n",
    "import numpy as np # linear algebra\n",
    "import pandas as pd # data processing, CSV file I/O (e.g. pd.read_csv)\n",
    "import matplotlib.pyplot as plt \n",
    "\n",
    "\n",
    "# Input data files are available in the read-only \"../input/\" directory\n",
    "# For example, running this (by clicking run or pressing Shift+Enter) will list all files under the input directory\n",
    "\n",
    "import os\n",
    "for dirname, _, filenames in os.walk('/kaggle/input'):\n",
    "    for filename in filenames:\n",
    "        print(os.path.join(dirname, filename))\n",
    "\n",
    "# You can write up to 20GB to the current directory (/kaggle/working/) that gets preserved as output when you create a version using \"Save & Run All\" \n",
    "# You can also write temporary files to /kaggle/temp/, but they won't be saved outside of the current session"
   ]
  },
  {
   "cell_type": "code",
   "execution_count": 2,
   "id": "cbca2987",
   "metadata": {
    "execution": {
     "iopub.execute_input": "2025-05-11T07:13:46.855463Z",
     "iopub.status.busy": "2025-05-11T07:13:46.854934Z",
     "iopub.status.idle": "2025-05-11T07:13:52.029310Z",
     "shell.execute_reply": "2025-05-11T07:13:52.028183Z"
    },
    "papermill": {
     "duration": 5.181178,
     "end_time": "2025-05-11T07:13:52.031509",
     "exception": false,
     "start_time": "2025-05-11T07:13:46.850331",
     "status": "completed"
    },
    "tags": []
   },
   "outputs": [],
   "source": [
    "\n",
    "pd_data = pd.read_csv('/kaggle/input/digit-recognizer/train.csv')\n",
    "data = np.array(pd_data)\n",
    "\n",
    "pd_data.head() # we have 785 columns, first is the \"right\" answer for our example, the rest is the data\n",
    "\n",
    "m, n = data.shape\n",
    "\n",
    "np.random.shuffle(data)\n"
   ]
  },
  {
   "cell_type": "markdown",
   "id": "49befe7d",
   "metadata": {
    "papermill": {
     "duration": 0.002806,
     "end_time": "2025-05-11T07:13:52.037923",
     "exception": false,
     "start_time": "2025-05-11T07:13:52.035117",
     "status": "completed"
    },
    "tags": []
   },
   "source": [
    "## The math I'll implement\n",
    "\n",
    "I'll be making a simple NN with only one hidden layer that has 16 neurons. Simple ReLU function with softmax X cross-entropy loss combo (nanoblade ?)\n",
    "\n",
    "Across $m$ training examples in one gradient step we have,\n",
    "$a^0 = 784 \\times m, a^1 = 16 \\times m, a^2 = 10 \\times m $ \n",
    "$W^1 = 16 \\times 784, W^2 = 10 \\times 16, b^1 = 16 \\times 1, b^2 = 10 \\times 1 $\n",
    "\n",
    "\n",
    "I honestly don't feel like rewriting the math in Latex, so here's my notebook page that has this stuff: "
   ]
  },
  {
   "cell_type": "code",
   "execution_count": 3,
   "id": "7cc02332",
   "metadata": {
    "execution": {
     "iopub.execute_input": "2025-05-11T07:13:52.046288Z",
     "iopub.status.busy": "2025-05-11T07:13:52.045879Z",
     "iopub.status.idle": "2025-05-11T07:13:52.306815Z",
     "shell.execute_reply": "2025-05-11T07:13:52.305707Z"
    },
    "papermill": {
     "duration": 0.267445,
     "end_time": "2025-05-11T07:13:52.308801",
     "exception": false,
     "start_time": "2025-05-11T07:13:52.041356",
     "status": "completed"
    },
    "tags": []
   },
   "outputs": [],
   "source": [
    "data_test = data[0:1000].T # we take the first 1000 rows, each row has one column with answer, the rest is pixel data\n",
    "\n",
    "\n",
    "y = data_test[0] #these are the \"correct\" answers, 1x1000 array\n",
    "x = data_test[1:] #this is the our data \n",
    "\n",
    "x = x / 255 \n",
    "# for the i'th training example-- x[:, i] we have the answer y[i] \n",
    "\n",
    "\n",
    "data_train = data[1000:].T\n",
    "\n",
    "ytrain = data_train[0]\n",
    "xtrain = data_train[1:]\n",
    "\n",
    "xtrain = xtrain / 255\n",
    "\n"
   ]
  },
  {
   "cell_type": "code",
   "execution_count": 4,
   "id": "6ae7f5d9",
   "metadata": {
    "execution": {
     "iopub.execute_input": "2025-05-11T07:13:52.317622Z",
     "iopub.status.busy": "2025-05-11T07:13:52.316512Z",
     "iopub.status.idle": "2025-05-11T07:13:52.329151Z",
     "shell.execute_reply": "2025-05-11T07:13:52.328085Z"
    },
    "papermill": {
     "duration": 0.018889,
     "end_time": "2025-05-11T07:13:52.330993",
     "exception": false,
     "start_time": "2025-05-11T07:13:52.312104",
     "status": "completed"
    },
    "tags": []
   },
   "outputs": [],
   "source": [
    "def init_params():\n",
    "    w1 = np.random.rand(10, 784) - 0.5\n",
    "    b1 = np.random.rand(10, 1) - 0.5\n",
    "    w2 = np.random.rand(10, 10) - 0.5\n",
    "    b2 = np.random.rand(10, 1) - 0.5\n",
    "    return w1,b1,w2,b2\n",
    "\n",
    "def ReLU(x):\n",
    "    return np.maximum(x, 0)\n",
    "\n",
    "def dReLU(x):\n",
    "    return x > 0\n",
    "\n",
    "def softmax(z):\n",
    "    z_max = np.max(z, axis=0, keepdims=True)        #1xm\n",
    "    exp_z = np.exp(z - z_max)                       # 10x m\n",
    "    denom = np.sum(exp_z, axis=0, keepdims=True)    #1xm\n",
    "    return exp_z / denom \n",
    "    \n",
    "def fprop(w1,b1,w2,b2,x):\n",
    "    z1 = w1.dot(x) + b1\n",
    "    a1 = ReLU(z1)\n",
    "    z2 = w2.dot(a1) + b2\n",
    "    a2 = softmax(z2) \n",
    "    return z1, a1, z2, a2\n",
    "\n",
    "def one_hot(y):\n",
    "    x = np.zeros((10, y.size))\n",
    "    x[y, np.arange(y.size)] = 1   \n",
    "\n",
    "    return x\n",
    "\n",
    "def compute_loss(a2, Y):\n",
    "    m    = Y.shape[1]\n",
    "    loss = -np.sum(Y * np.log(a2 + 1e-8)) / m\n",
    "    return loss\n",
    "    \n",
    "    \n",
    "    \n",
    "\n",
    "def backprop(w1,b1,w2 ,b2, z1, a1, z2, a2, x, y):\n",
    "    m = x.shape[1]\n",
    "    dz2 = a2 - y\n",
    "    dw2 = 1/m * dz2.dot(a1.T)\n",
    "    db2 = 1/m * (np.sum(dz2,axis=1, keepdims=True))\n",
    "\n",
    "    dz1 = w2.T.dot(dz2)*dReLU(z1)\n",
    "    dw1 = 1/m * dz1.dot(x.T)\n",
    "    db1 = 1/m * (np.sum(dz1,axis=1, keepdims=True))\n",
    "    \n",
    "    \n",
    "    return dw2, db2, dw1, db1\n",
    "\n",
    "def step(w1, b1, w2, b2, dw1, db1, dw2, db2, alpha):\n",
    "    w1 = w1 - alpha * dw1\n",
    "    b1 = b1 - alpha * db1    \n",
    "    w2 = w2 - alpha * dw2  \n",
    "    b2 = b2 - alpha * db2    \n",
    "    return w1, b1, w2, b2\n",
    "\n",
    "\n",
    "def accuracy(a2, y):\n",
    "    p = np.argmax(a2, 0)\n",
    "    return np.sum(p == y) / y.size\n"
   ]
  },
  {
   "cell_type": "code",
   "execution_count": 5,
   "id": "e196cadd",
   "metadata": {
    "execution": {
     "iopub.execute_input": "2025-05-11T07:13:52.338886Z",
     "iopub.status.busy": "2025-05-11T07:13:52.338455Z",
     "iopub.status.idle": "2025-05-11T07:13:52.345609Z",
     "shell.execute_reply": "2025-05-11T07:13:52.344475Z"
    },
    "papermill": {
     "duration": 0.013151,
     "end_time": "2025-05-11T07:13:52.347356",
     "exception": false,
     "start_time": "2025-05-11T07:13:52.334205",
     "status": "completed"
    },
    "tags": []
   },
   "outputs": [],
   "source": [
    "def train(x, y):\n",
    "    _, m = x.shape \n",
    "    w1, b1, w2, b2 = init_params()\n",
    "\n",
    "    hot_y = one_hot(y)\n",
    "    for i in range(500):\n",
    "        alpha = 0.1\n",
    "        z1, a1, z2, a2 = fprop(w1,b1,w2,b2, x)\n",
    "        \n",
    "        dw2, db2, dw1, db1 = backprop(w1,b1,w2,b2, z1, a1, z2, a2, x, hot_y)\n",
    "\n",
    "        w1, b1, w2, b2 = step(w1, b1, w2, b2, dw1, db1, dw2, db2, alpha)\n",
    "        # if i%25 == 0:\n",
    "        #     # print(compute_loss(a2, hot_y))\n",
    "            \n",
    "        #     print(accuracy(a2, y))\n",
    "    return w1, b1, w2, b2\n",
    "        "
   ]
  },
  {
   "cell_type": "code",
   "execution_count": 6,
   "id": "b60cc014",
   "metadata": {
    "execution": {
     "iopub.execute_input": "2025-05-11T07:13:52.357914Z",
     "iopub.status.busy": "2025-05-11T07:13:52.356761Z",
     "iopub.status.idle": "2025-05-11T07:14:42.303090Z",
     "shell.execute_reply": "2025-05-11T07:14:42.301909Z"
    },
    "papermill": {
     "duration": 49.952973,
     "end_time": "2025-05-11T07:14:42.305442",
     "exception": false,
     "start_time": "2025-05-11T07:13:52.352469",
     "status": "completed"
    },
    "tags": []
   },
   "outputs": [],
   "source": [
    "w1, b1, w2, b2 = train(xtrain, ytrain)"
   ]
  },
  {
   "cell_type": "code",
   "execution_count": 7,
   "id": "14d5eaf3",
   "metadata": {
    "execution": {
     "iopub.execute_input": "2025-05-11T07:14:42.316078Z",
     "iopub.status.busy": "2025-05-11T07:14:42.315197Z",
     "iopub.status.idle": "2025-05-11T07:14:42.329432Z",
     "shell.execute_reply": "2025-05-11T07:14:42.328420Z"
    },
    "papermill": {
     "duration": 0.021385,
     "end_time": "2025-05-11T07:14:42.331305",
     "exception": false,
     "start_time": "2025-05-11T07:14:42.309920",
     "status": "completed"
    },
    "tags": []
   },
   "outputs": [
    {
     "data": {
      "text/plain": [
       "0.842"
      ]
     },
     "execution_count": 7,
     "metadata": {},
     "output_type": "execute_result"
    }
   ],
   "source": [
    "def predict(w1, b1, w2, b2, x, y):\n",
    "    _,_,_,a2 = fprop(w1,b1,w2,b2, x)\n",
    "    return accuracy(a2, y)\n",
    "\n",
    "predict(w1, b1, w2, b2, x, y)"
   ]
  },
  {
   "cell_type": "code",
   "execution_count": null,
   "id": "92b43ce0",
   "metadata": {
    "papermill": {
     "duration": 0.002893,
     "end_time": "2025-05-11T07:14:42.337661",
     "exception": false,
     "start_time": "2025-05-11T07:14:42.334768",
     "status": "completed"
    },
    "tags": []
   },
   "outputs": [],
   "source": []
  },
  {
   "cell_type": "code",
   "execution_count": null,
   "id": "c866e160",
   "metadata": {
    "papermill": {
     "duration": 0.002735,
     "end_time": "2025-05-11T07:14:42.343493",
     "exception": false,
     "start_time": "2025-05-11T07:14:42.340758",
     "status": "completed"
    },
    "tags": []
   },
   "outputs": [],
   "source": []
  },
  {
   "cell_type": "code",
   "execution_count": null,
   "id": "c31fee96",
   "metadata": {
    "papermill": {
     "duration": 0.002649,
     "end_time": "2025-05-11T07:14:42.349095",
     "exception": false,
     "start_time": "2025-05-11T07:14:42.346446",
     "status": "completed"
    },
    "tags": []
   },
   "outputs": [],
   "source": []
  },
  {
   "cell_type": "code",
   "execution_count": null,
   "id": "aac8af72",
   "metadata": {
    "papermill": {
     "duration": 0.002505,
     "end_time": "2025-05-11T07:14:42.354447",
     "exception": false,
     "start_time": "2025-05-11T07:14:42.351942",
     "status": "completed"
    },
    "tags": []
   },
   "outputs": [],
   "source": []
  },
  {
   "cell_type": "code",
   "execution_count": null,
   "id": "7392037e",
   "metadata": {
    "papermill": {
     "duration": 0.002804,
     "end_time": "2025-05-11T07:14:42.360126",
     "exception": false,
     "start_time": "2025-05-11T07:14:42.357322",
     "status": "completed"
    },
    "tags": []
   },
   "outputs": [],
   "source": []
  }
 ],
 "metadata": {
  "kaggle": {
   "accelerator": "none",
   "dataSources": [
    {
     "databundleVersionId": 861823,
     "sourceId": 3004,
     "sourceType": "competition"
    }
   ],
   "dockerImageVersionId": 31012,
   "isGpuEnabled": false,
   "isInternetEnabled": false,
   "language": "python",
   "sourceType": "notebook"
  },
  "kernelspec": {
   "display_name": "Python 3",
   "language": "python",
   "name": "python3"
  },
  "language_info": {
   "codemirror_mode": {
    "name": "ipython",
    "version": 3
   },
   "file_extension": ".py",
   "mimetype": "text/x-python",
   "name": "python",
   "nbconvert_exporter": "python",
   "pygments_lexer": "ipython3",
   "version": "3.11.11"
  },
  "papermill": {
   "default_parameters": {},
   "duration": 64.798407,
   "end_time": "2025-05-11T07:14:43.185949",
   "environment_variables": {},
   "exception": null,
   "input_path": "__notebook__.ipynb",
   "output_path": "__notebook__.ipynb",
   "parameters": {},
   "start_time": "2025-05-11T07:13:38.387542",
   "version": "2.6.0"
  }
 },
 "nbformat": 4,
 "nbformat_minor": 5
}
