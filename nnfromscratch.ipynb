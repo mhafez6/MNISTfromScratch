{
 "cells": [
  {
   "cell_type": "code",
   "execution_count": 1,
   "id": "574ed928",
   "metadata": {
    "_cell_guid": "b1076dfc-b9ad-4769-8c92-a6c4dae69d19",
    "_uuid": "8f2839f25d086af736a60e9eeb907d3b93b6e0e5",
    "execution": {
     "iopub.execute_input": "2025-05-11T04:52:55.086071Z",
     "iopub.status.busy": "2025-05-11T04:52:55.085457Z",
     "iopub.status.idle": "2025-05-11T04:52:56.696005Z",
     "shell.execute_reply": "2025-05-11T04:52:56.695023Z"
    },
    "papermill": {
     "duration": 1.616518,
     "end_time": "2025-05-11T04:52:56.697440",
     "exception": false,
     "start_time": "2025-05-11T04:52:55.080922",
     "status": "completed"
    },
    "tags": []
   },
   "outputs": [
    {
     "name": "stdout",
     "output_type": "stream",
     "text": [
      "/kaggle/input/digit-recognizer/sample_submission.csv\n",
      "/kaggle/input/digit-recognizer/train.csv\n",
      "/kaggle/input/digit-recognizer/test.csv\n"
     ]
    }
   ],
   "source": [
    "# This Python 3 environment comes with many helpful analytics libraries installed\n",
    "# It is defined by the kaggle/python Docker image: https://github.com/kaggle/docker-python\n",
    "# For example, here's several helpful packages to load\n",
    "\n",
    "import numpy as np # linear algebra\n",
    "import pandas as pd # data processing, CSV file I/O (e.g. pd.read_csv)\n",
    "import matplotlib.pyplot as plt \n",
    "\n",
    "\n",
    "# Input data files are available in the read-only \"../input/\" directory\n",
    "# For example, running this (by clicking run or pressing Shift+Enter) will list all files under the input directory\n",
    "\n",
    "import os\n",
    "for dirname, _, filenames in os.walk('/kaggle/input'):\n",
    "    for filename in filenames:\n",
    "        print(os.path.join(dirname, filename))\n",
    "\n",
    "# You can write up to 20GB to the current directory (/kaggle/working/) that gets preserved as output when you create a version using \"Save & Run All\" \n",
    "# You can also write temporary files to /kaggle/temp/, but they won't be saved outside of the current session"
   ]
  },
  {
   "cell_type": "code",
   "execution_count": 2,
   "id": "ace49034",
   "metadata": {
    "execution": {
     "iopub.execute_input": "2025-05-11T04:52:56.704296Z",
     "iopub.status.busy": "2025-05-11T04:52:56.703934Z",
     "iopub.status.idle": "2025-05-11T04:53:00.758235Z",
     "shell.execute_reply": "2025-05-11T04:53:00.757505Z"
    },
    "papermill": {
     "duration": 4.059151,
     "end_time": "2025-05-11T04:53:00.759689",
     "exception": false,
     "start_time": "2025-05-11T04:52:56.700538",
     "status": "completed"
    },
    "tags": []
   },
   "outputs": [],
   "source": [
    "\n",
    "pd_data = pd.read_csv('/kaggle/input/digit-recognizer/train.csv')\n",
    "data = np.array(pd_data)\n",
    "\n",
    "pd_data.head() # we have 785 columns, first is the \"right\" answer for our example, the rest is the data\n",
    "\n",
    "m, n = data.shape\n",
    "\n",
    "np.random.shuffle(data)\n"
   ]
  },
  {
   "cell_type": "markdown",
   "id": "596def23",
   "metadata": {
    "papermill": {
     "duration": 0.002706,
     "end_time": "2025-05-11T04:53:00.765437",
     "exception": false,
     "start_time": "2025-05-11T04:53:00.762731",
     "status": "completed"
    },
    "tags": []
   },
   "source": [
    "## The math I'll implement\n",
    "\n",
    "I'll be making a simple NN with only one hidden layer that has 16 neurons. Simple ReLU function with softmax X cross-entropy loss combo (nanoblade ?)\n",
    "\n",
    "Across $m$ training examples in one gradient step we have,\n",
    "$a^0 = 784 \\times m, a^1 = 16 \\times m, a^2 = 10 \\times m $ \n",
    "$W^1 = 16 \\times 784, W^2 = 10 \\times 16, b^1 = 16 \\times 1, b^2 = 10 \\times 1 $\n",
    "\n",
    "\n",
    "I honestly don't feel like rewriting the math in Latex, so here's my notebook page that has this stuff: "
   ]
  },
  {
   "cell_type": "code",
   "execution_count": 3,
   "id": "443365df",
   "metadata": {
    "execution": {
     "iopub.execute_input": "2025-05-11T04:53:00.772952Z",
     "iopub.status.busy": "2025-05-11T04:53:00.772123Z",
     "iopub.status.idle": "2025-05-11T04:53:00.923825Z",
     "shell.execute_reply": "2025-05-11T04:53:00.922952Z"
    },
    "papermill": {
     "duration": 0.157099,
     "end_time": "2025-05-11T04:53:00.925343",
     "exception": false,
     "start_time": "2025-05-11T04:53:00.768244",
     "status": "completed"
    },
    "tags": []
   },
   "outputs": [],
   "source": [
    "data_test = data[0:1000].T # we take the first 1000 rows, each row has one column with answer, the rest is pixel data\n",
    "\n",
    "\n",
    "y = data_test[0] #these are the \"correct\" answers, 1x1000 array\n",
    "x = data_test[1:] #this is the our data \n",
    "\n",
    "x = x / 255 \n",
    "# for the i'th training example-- x[:, i] we have the answer y[i] \n",
    "\n",
    "\n",
    "data_train = data[1000:].T\n",
    "\n",
    "ytrain = data_train[0]\n",
    "xtrain = data_train[1:]\n",
    "\n",
    "xtrain = xtrain / 255\n",
    "\n"
   ]
  },
  {
   "cell_type": "code",
   "execution_count": 4,
   "id": "15574dc5",
   "metadata": {
    "execution": {
     "iopub.execute_input": "2025-05-11T04:53:00.931992Z",
     "iopub.status.busy": "2025-05-11T04:53:00.931683Z",
     "iopub.status.idle": "2025-05-11T04:53:00.935445Z",
     "shell.execute_reply": "2025-05-11T04:53:00.934568Z"
    },
    "papermill": {
     "duration": 0.008487,
     "end_time": "2025-05-11T04:53:00.936726",
     "exception": false,
     "start_time": "2025-05-11T04:53:00.928239",
     "status": "completed"
    },
    "tags": []
   },
   "outputs": [],
   "source": [
    "# y[3:10]\n",
    "# x[:, 0]\n",
    "# print(y[10])\n",
    "# # y[0]\n",
    "\n",
    "# t = np.array_split(x[:, 10], 28) \n",
    "\n",
    "# plt.imshow(t, cmap='gray')\n",
    "# plt.show()\n",
    "\n",
    "\n",
    "\n",
    "\n",
    "\n",
    "\n",
    "\n"
   ]
  },
  {
   "cell_type": "code",
   "execution_count": null,
   "id": "e58cc9af",
   "metadata": {
    "papermill": {
     "duration": 0.003763,
     "end_time": "2025-05-11T04:53:00.943496",
     "exception": false,
     "start_time": "2025-05-11T04:53:00.939733",
     "status": "completed"
    },
    "tags": []
   },
   "outputs": [],
   "source": []
  },
  {
   "cell_type": "code",
   "execution_count": 5,
   "id": "42981792",
   "metadata": {
    "execution": {
     "iopub.execute_input": "2025-05-11T04:53:00.949895Z",
     "iopub.status.busy": "2025-05-11T04:53:00.949316Z",
     "iopub.status.idle": "2025-05-11T04:53:00.954572Z",
     "shell.execute_reply": "2025-05-11T04:53:00.953974Z"
    },
    "papermill": {
     "duration": 0.009643,
     "end_time": "2025-05-11T04:53:00.955706",
     "exception": false,
     "start_time": "2025-05-11T04:53:00.946063",
     "status": "completed"
    },
    "tags": []
   },
   "outputs": [],
   "source": [
    "def init_params():\n",
    "    w1 = np.random.rand(16, 784) - 0.5\n",
    "    b1 = np.random.rand(16, 1) - 0.5\n",
    "    w2 = np.random.rand(10, 16) - 0.5\n",
    "    b2 = np.random.rand(10, 1) - 0.5\n",
    "    return w1,b1,w2,b2\n",
    "\n",
    "def ReLU(x):\n",
    "    return np.maximum(x, 0)\n",
    "\n",
    "def dReLU(x):\n",
    "    return x > 0\n",
    "\n",
    "def softmax(z):\n",
    "    a = np.exp(z) / sum(np.exp(z))\n",
    "    return a    "
   ]
  },
  {
   "cell_type": "code",
   "execution_count": 6,
   "id": "42efbcd5",
   "metadata": {
    "execution": {
     "iopub.execute_input": "2025-05-11T04:53:00.962155Z",
     "iopub.status.busy": "2025-05-11T04:53:00.961468Z",
     "iopub.status.idle": "2025-05-11T04:53:00.966498Z",
     "shell.execute_reply": "2025-05-11T04:53:00.965920Z"
    },
    "papermill": {
     "duration": 0.009296,
     "end_time": "2025-05-11T04:53:00.967657",
     "exception": false,
     "start_time": "2025-05-11T04:53:00.958361",
     "status": "completed"
    },
    "tags": []
   },
   "outputs": [],
   "source": [
    "def fprop(w1,b1,w2,b2,x):\n",
    "    z1 = w1.dot(x) + b1\n",
    "    a1 = ReLU(z1)\n",
    "    z2 = w2.dot(a1) + b2\n",
    "    a2 = softmax(z2) \n",
    "    return z1, a1, z2, a2\n",
    "\n",
    "def one_hot(y):\n",
    "    # return a 10 x m table with column vectors one hotted based on y input\n",
    "    x = np.zeros((10, y.size))\n",
    "    x[y, np.arange(y.size)] = 1   \n",
    "\n",
    "\n",
    "\n",
    "    # return x.T gives us m arrays of size 10 where each one is the output thing \n",
    "    return x\n",
    "\n",
    "\n",
    "\n",
    "\n",
    "#TO DO: \n",
    "    # Loss function\n",
    "    # back prop \n",
    "\n",
    "# flow of training: \n",
    "    #init -> fprop -> calculate error -> bprop -> fprop \n",
    "    #-> calc errors ( repeat for some finite number of times ) "
   ]
  },
  {
   "cell_type": "code",
   "execution_count": 7,
   "id": "cf1cab4c",
   "metadata": {
    "execution": {
     "iopub.execute_input": "2025-05-11T04:53:00.973991Z",
     "iopub.status.busy": "2025-05-11T04:53:00.973543Z",
     "iopub.status.idle": "2025-05-11T04:53:00.979129Z",
     "shell.execute_reply": "2025-05-11T04:53:00.978432Z"
    },
    "papermill": {
     "duration": 0.009986,
     "end_time": "2025-05-11T04:53:00.980395",
     "exception": false,
     "start_time": "2025-05-11T04:53:00.970409",
     "status": "completed"
    },
    "tags": []
   },
   "outputs": [],
   "source": [
    "\n",
    "    \n",
    "\n",
    "def backprop(w1,b1,w2 ,b2, z1, a1, z2, a2, x, y):\n",
    "    dz2 = a2 - y\n",
    "    dw2 = 1/m * dz2.dot(a1.T)\n",
    "    db2 = 1/m * (np.sum(dz2,axis=1, keepdims=True))\n",
    "\n",
    "    dz1 = w2.T.dot(a2-y)*dReLU(z1)\n",
    "    dw1 = 1/m * dz1.dot(x.T)\n",
    "    db1 = 1/m * (np.sum(dz1,axis=1, keepdims=True))\n",
    "    \n",
    "    \n",
    "    return dz2, dw2, db2, dz1, dw1, db1\n",
    "\n",
    "def step(w1, b1, w2, b2, dw1, db1, dw2, db2, alpha):\n",
    "    w1 = w1 - alpha * dw1\n",
    "    b1 = b1 - alpha * db1    \n",
    "    w2 = w2 - alpha * dw2  \n",
    "    b2 = b2 - alpha * db2    \n",
    "    return w1, b1, w2, b2"
   ]
  },
  {
   "cell_type": "code",
   "execution_count": 8,
   "id": "f4cc83bb",
   "metadata": {
    "execution": {
     "iopub.execute_input": "2025-05-11T04:53:00.986350Z",
     "iopub.status.busy": "2025-05-11T04:53:00.986117Z",
     "iopub.status.idle": "2025-05-11T04:53:00.991679Z",
     "shell.execute_reply": "2025-05-11T04:53:00.990984Z"
    },
    "papermill": {
     "duration": 0.009983,
     "end_time": "2025-05-11T04:53:00.992974",
     "exception": false,
     "start_time": "2025-05-11T04:53:00.982991",
     "status": "completed"
    },
    "tags": []
   },
   "outputs": [],
   "source": [
    "def train(x, y):\n",
    "    _, m = x.shape \n",
    "    w1, b1, w2, b2 = init_params()\n",
    "    print(w1[0][0], w2[0][0],b1[0][0],b2[0][0])\n",
    "\n",
    "    for i in range(100):\n",
    "        alpha = 1\n",
    "        z1, a1, z2, a2 = fprop(w1,b1,w2,b2,x)\n",
    "        hot_y = one_hot(y)\n",
    "        dz2, dw2, db2, dz1, dw1, db1 = backprop(w1,b1,w2,b2, z1, a1, z2, a2, x, hot_y)\n",
    "\n",
    "        w1, b1, w2, b2 = step(w1, b1, w2, b2, dw1, db1, dw2, db2, alpha)\n",
    "        # if i%10 == 0:\n",
    "            # print(dz1[0][0], dz2[0][0], dw1[0][0], dw2[0][0])\n",
    "    \n",
    "    print(w1[0][0], w2[0][0],b1[0][0],b1[0][0])\n",
    "        "
   ]
  },
  {
   "cell_type": "code",
   "execution_count": 9,
   "id": "b8396fea",
   "metadata": {
    "execution": {
     "iopub.execute_input": "2025-05-11T04:53:00.998842Z",
     "iopub.status.busy": "2025-05-11T04:53:00.998601Z",
     "iopub.status.idle": "2025-05-11T04:53:01.069185Z",
     "shell.execute_reply": "2025-05-11T04:53:01.068126Z"
    },
    "papermill": {
     "duration": 0.075016,
     "end_time": "2025-05-11T04:53:01.070521",
     "exception": false,
     "start_time": "2025-05-11T04:53:00.995505",
     "status": "completed"
    },
    "tags": []
   },
   "outputs": [
    {
     "name": "stdout",
     "output_type": "stream",
     "text": [
      "0.2310842171537405 -0.3456411667573398 0.06447272959844175 -0.19116150227882633\n",
      "0.2310842171537405 -0.27756032700742933 0.03772974962010685 0.03772974962010685\n"
     ]
    }
   ],
   "source": [
    "train(x[:,:100], y[:100])"
   ]
  },
  {
   "cell_type": "code",
   "execution_count": 10,
   "id": "7d2b4ae2",
   "metadata": {
    "execution": {
     "iopub.execute_input": "2025-05-11T04:53:01.077429Z",
     "iopub.status.busy": "2025-05-11T04:53:01.076721Z",
     "iopub.status.idle": "2025-05-11T04:53:01.082738Z",
     "shell.execute_reply": "2025-05-11T04:53:01.081996Z"
    },
    "papermill": {
     "duration": 0.010874,
     "end_time": "2025-05-11T04:53:01.084241",
     "exception": false,
     "start_time": "2025-05-11T04:53:01.073367",
     "status": "completed"
    },
    "tags": []
   },
   "outputs": [],
   "source": [
    "w1, b1, w2, b2 = init_params()\n",
    "z1, a1, z2, a2 = fprop(w1,b1,w2,b2,x[:, :4])\n",
    "hot_y = one_hot(y[:4])\n",
    "\n",
    "\n",
    "dz2, dw2, db2, dz1, dw1, db1 = backprop(w1,b1,w2,b2, z1, a1, z2, a2, x[:, :4], hot_y)\n",
    "w1, B1, w2, b2 = step(w1, b1, w2, b2, dw1, db1, dw2, db2, 0.1)\n",
    "\n",
    "\n"
   ]
  },
  {
   "cell_type": "code",
   "execution_count": null,
   "id": "091af04c",
   "metadata": {
    "papermill": {
     "duration": 0.00233,
     "end_time": "2025-05-11T04:53:01.089210",
     "exception": false,
     "start_time": "2025-05-11T04:53:01.086880",
     "status": "completed"
    },
    "tags": []
   },
   "outputs": [],
   "source": []
  }
 ],
 "metadata": {
  "kaggle": {
   "accelerator": "none",
   "dataSources": [
    {
     "databundleVersionId": 861823,
     "sourceId": 3004,
     "sourceType": "competition"
    }
   ],
   "dockerImageVersionId": 31012,
   "isGpuEnabled": false,
   "isInternetEnabled": false,
   "language": "python",
   "sourceType": "notebook"
  },
  "kernelspec": {
   "display_name": "Python 3",
   "language": "python",
   "name": "python3"
  },
  "language_info": {
   "codemirror_mode": {
    "name": "ipython",
    "version": 3
   },
   "file_extension": ".py",
   "mimetype": "text/x-python",
   "name": "python",
   "nbconvert_exporter": "python",
   "pygments_lexer": "ipython3",
   "version": "3.11.11"
  },
  "papermill": {
   "default_parameters": {},
   "duration": 10.622959,
   "end_time": "2025-05-11T04:53:01.508992",
   "environment_variables": {},
   "exception": null,
   "input_path": "__notebook__.ipynb",
   "output_path": "__notebook__.ipynb",
   "parameters": {},
   "start_time": "2025-05-11T04:52:50.886033",
   "version": "2.6.0"
  }
 },
 "nbformat": 4,
 "nbformat_minor": 5
}
